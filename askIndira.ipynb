{
  "nbformat": 4,
  "nbformat_minor": 0,
  "metadata": {
    "colab": {
      "provenance": [],
      "authorship_tag": "ABX9TyNrjV6o6BVl7/uL/Cr8Vc61",
      "include_colab_link": true
    },
    "kernelspec": {
      "name": "python3",
      "display_name": "Python 3"
    },
    "language_info": {
      "name": "python"
    }
  },
  "cells": [
    {
      "cell_type": "markdown",
      "metadata": {
        "id": "view-in-github",
        "colab_type": "text"
      },
      "source": [
        "<a href=\"https://colab.research.google.com/github/shreyapandey9899/DSA-Mentorship/blob/main/askIndira.ipynb\" target=\"_parent\"><img src=\"https://colab.research.google.com/assets/colab-badge.svg\" alt=\"Open In Colab\"/></a>"
      ]
    },
    {
      "cell_type": "code",
      "source": [
        "import re\n",
        "\n",
        "def load_words(file_name):\n",
        "    word_set = set()\n",
        "    with open(file_name, 'r') as file:\n",
        "        for line in file:\n",
        "            word_set.add(line.strip().lower())\n",
        "    return word_set\n",
        "\n",
        "def process_input(input_text, stop_words, keywords):\n",
        "    # Convert input to lowercase\n",
        "    input_text = input_text.lower()\n",
        "\n",
        "    # Tokenize the input\n",
        "    tokens = re.findall(r'\\b\\w+\\b', input_text)\n",
        "\n",
        "    # Process tokens\n",
        "    found_keyword = False\n",
        "    for token in tokens:\n",
        "        if token not in stop_words and token in keywords:\n",
        "            print(f\"Keyword found: {token}\")\n",
        "            found_keyword = True\n",
        "\n",
        "    if not found_keyword:\n",
        "        print(\"I am Sorry\")\n",
        "\n",
        "def main():\n",
        "    # Load stop words and keywords from files\n",
        "    stop_words = load_words('stopwords.txt')\n",
        "    keywords = load_words('keywords.txt')\n",
        "\n",
        "    print(\"Enter text (type 'bye' to exit):\")\n",
        "\n",
        "    while True:\n",
        "        input_text = input(\"You: \")\n",
        "        if input_text.lower() == \"bye\":\n",
        "            break\n",
        "        process_input(input_text, stop_words, keywords)\n",
        "\n",
        "    print(\"Goodbye!\")\n",
        "\n",
        "if __name__ == \"__main__\":\n",
        "    main()\n"
      ],
      "metadata": {
        "colab": {
          "base_uri": "https://localhost:8080/"
        },
        "id": "yPoM1khn24wv",
        "outputId": "506668a0-9250-4825-a481-646e073bbdb0"
      },
      "execution_count": 5,
      "outputs": [
        {
          "output_type": "stream",
          "name": "stdout",
          "text": [
            "Enter text (type 'bye' to exit):\n",
            "You: hi\n",
            "Keyword found: hi\n",
            "You: i hate you\n",
            "I am Sorry\n",
            "You: bye\n",
            "Goodbye!\n"
          ]
        }
      ]
    }
  ]
}